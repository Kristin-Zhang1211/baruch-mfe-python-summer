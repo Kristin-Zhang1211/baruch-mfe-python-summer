{
 "cells": [
  {
   "cell_type": "markdown",
   "metadata": {},
   "source": [
    "# Ting_Zhang_HW5"
   ]
  },
  {
   "cell_type": "markdown",
   "metadata": {},
   "source": [
    "## Question 1 Algorithmic questions\n",
    "\n",
    "Find the kth largest element in an unsorted array. Note that it is the kth largest element in the sorted order, not the kth distinct element."
   ]
  },
  {
   "cell_type": "code",
   "execution_count": 1,
   "metadata": {},
   "outputs": [],
   "source": [
    "import heapq"
   ]
  },
  {
   "cell_type": "code",
   "execution_count": 2,
   "metadata": {},
   "outputs": [],
   "source": [
    "def find_kth_largest_element(nums, k):\n",
    "    length = len(nums)\n",
    "    if length == 0:\n",
    "        return\n",
    "    heapq.heapify(nums)\n",
    "    for _ in range(length - k + 1):\n",
    "        res = heapq.heappop(nums)\n",
    "    return res"
   ]
  },
  {
   "cell_type": "code",
   "execution_count": 3,
   "metadata": {},
   "outputs": [
    {
     "data": {
      "text/plain": [
       "5"
      ]
     },
     "execution_count": 3,
     "metadata": {},
     "output_type": "execute_result"
    }
   ],
   "source": [
    "# ex1, the example in the question\n",
    "nums = [3,2,1,5,6,4] \n",
    "k = 2\n",
    "find_kth_largest_element(nums, k)"
   ]
  },
  {
   "cell_type": "code",
   "execution_count": 4,
   "metadata": {},
   "outputs": [
    {
     "data": {
      "text/plain": [
       "4"
      ]
     },
     "execution_count": 4,
     "metadata": {},
     "output_type": "execute_result"
    }
   ],
   "source": [
    "# ex2, with duplicates\n",
    "nums = [3,2,3,1,2,4,5,5,6]\n",
    "k = 4\n",
    "find_kth_largest_element(nums, k)"
   ]
  },
  {
   "cell_type": "code",
   "execution_count": 5,
   "metadata": {},
   "outputs": [
    {
     "data": {
      "text/plain": [
       "4"
      ]
     },
     "execution_count": 5,
     "metadata": {},
     "output_type": "execute_result"
    }
   ],
   "source": [
    "# ex3, sorted without duplicates\n",
    "nums = [1,2,3,4,5,6,7]\n",
    "k = 4\n",
    "find_kth_largest_element(nums, k)"
   ]
  },
  {
   "cell_type": "code",
   "execution_count": 7,
   "metadata": {},
   "outputs": [
    {
     "data": {
      "text/plain": [
       "5"
      ]
     },
     "execution_count": 7,
     "metadata": {},
     "output_type": "execute_result"
    }
   ],
   "source": [
    "# ex4, sorted with duplicates\n",
    "nums = [1,2,2,3,4,5,6,6,7]\n",
    "k = 4\n",
    "find_kth_largest_element(nums, k)"
   ]
  },
  {
   "cell_type": "code",
   "execution_count": 8,
   "metadata": {},
   "outputs": [],
   "source": [
    "# ex5, edge example\n",
    "nums = []\n",
    "k = 4\n",
    "find_kth_largest_element(nums, k)"
   ]
  },
  {
   "cell_type": "markdown",
   "metadata": {},
   "source": [
    "* Analyze the time complexity of your algorithm.\n",
    "\n",
    "The time comlexity for heapify operation is O(n) and the time complexity for the loop is O(n).\n",
    "So in total the time complexity for the function is O(n)."
   ]
  },
  {
   "cell_type": "markdown",
   "metadata": {},
   "source": [
    "## Question 2 Multithreading pop.\n",
    "\n",
    "Using python data structure Queue, generate a queue that have 10000 elments. Then use 1, 5, 20 threads to pop out the elments out. Compare the efficiency when you use different number of threads and explain why you see the pattern of performance."
   ]
  },
  {
   "cell_type": "code",
   "execution_count": 9,
   "metadata": {},
   "outputs": [],
   "source": [
    "import queue\n",
    "import threading"
   ]
  },
  {
   "cell_type": "code",
   "execution_count": 10,
   "metadata": {},
   "outputs": [],
   "source": [
    "def generate_queue():\n",
    "    \"\"\"\n",
    "    generate a queue that have 10000 elments\n",
    "    \"\"\"\n",
    "    q = queue.Queue()\n",
    "    for i in range(10000):\n",
    "        q.put(i)\n",
    "    return q"
   ]
  },
  {
   "cell_type": "code",
   "execution_count": 11,
   "metadata": {},
   "outputs": [],
   "source": [
    "def pop_queue(inputq, n):\n",
    "    \"\"\"\n",
    "    pop out the n elments out\n",
    "    \"\"\"\n",
    "    for _ in range(n):\n",
    "        if not inputq.empty():\n",
    "            inputq.get()"
   ]
  },
  {
   "cell_type": "code",
   "execution_count": 12,
   "metadata": {},
   "outputs": [],
   "source": [
    "def multithreading(inputq, n, thread_nums):\n",
    "    \"\"\"\n",
    "    use multi threads to pop out the elments out\n",
    "    \"\"\"\n",
    "    threads = []\n",
    "    for _ in range(thread_nums):\n",
    "        th = threading.Thread(target=pop_queue, args=(inputq, n // thread_nums))\n",
    "        threads.append(th)\n",
    "        th.start()\n",
    "    for t in threads:\n",
    "        t.join()"
   ]
  },
  {
   "cell_type": "code",
   "execution_count": 13,
   "metadata": {},
   "outputs": [
    {
     "name": "stdout",
     "output_type": "stream",
     "text": [
      "3.75 ms ± 67.4 µs per loop (mean ± std. dev. of 7 runs, 100 loops each)\n"
     ]
    }
   ],
   "source": [
    "# pop out the elements by 1 thread\n",
    "q = generate_queue()\n",
    "%timeit multithreading(q, 10000, 1)"
   ]
  },
  {
   "cell_type": "code",
   "execution_count": 14,
   "metadata": {},
   "outputs": [
    {
     "name": "stdout",
     "output_type": "stream",
     "text": [
      "4.24 ms ± 49.9 µs per loop (mean ± std. dev. of 7 runs, 100 loops each)\n"
     ]
    }
   ],
   "source": [
    "# pop out the elements by 5 threads\n",
    "q = generate_queue()\n",
    "%timeit multithreading(q, 10000, 5)"
   ]
  },
  {
   "cell_type": "code",
   "execution_count": 15,
   "metadata": {},
   "outputs": [
    {
     "name": "stdout",
     "output_type": "stream",
     "text": [
      "4.88 ms ± 150 µs per loop (mean ± std. dev. of 7 runs, 100 loops each)\n"
     ]
    }
   ],
   "source": [
    "# pop out the elements by 20 threads\n",
    "q = generate_queue()\n",
    "%timeit multithreading(q, 10000, 20)"
   ]
  },
  {
   "cell_type": "markdown",
   "metadata": {},
   "source": [
    "There are no big differences between three methods. Because global interpreter lock doesn't allow threads to run at the same time."
   ]
  },
  {
   "cell_type": "code",
   "execution_count": null,
   "metadata": {},
   "outputs": [],
   "source": []
  }
 ],
 "metadata": {
  "kernelspec": {
   "display_name": "Python 3",
   "language": "python",
   "name": "python3"
  },
  "language_info": {
   "codemirror_mode": {
    "name": "ipython",
    "version": 3
   },
   "file_extension": ".py",
   "mimetype": "text/x-python",
   "name": "python",
   "nbconvert_exporter": "python",
   "pygments_lexer": "ipython3",
   "version": "3.8.3"
  }
 },
 "nbformat": 4,
 "nbformat_minor": 4
}
