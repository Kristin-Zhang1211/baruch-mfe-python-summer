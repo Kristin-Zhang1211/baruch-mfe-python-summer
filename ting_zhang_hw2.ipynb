{
 "cells": [
  {
   "cell_type": "markdown",
   "metadata": {},
   "source": [
    "# Ting_Zhang_Homework 2"
   ]
  },
  {
   "cell_type": "markdown",
   "metadata": {},
   "source": [
    "## Reading\n",
    "* Descriptor: https://realpython.com/python-descriptors/#how-attributes-are-accessed-with-the-lookup-chain\n",
    "* Data model: https://docs.python.org/3/reference/datamodel.html (contents related to what we taught)\n",
    "* Python MRO: https://www.python.org/download/releases/2.3/mro/"
   ]
  },
  {
   "cell_type": "markdown",
   "metadata": {},
   "source": [
    "## Merge sorted stream\n",
    "Write a generator function that takes two sorted streams (generators), and return a generator that can produce a merged stream in sorted order.\n",
    "\n",
    "Bonus point: can you make it generic such that it can merge any number of streams?\n",
    "\n",
    "\n",
    "```python\n",
    "def merge_sorted_stream(stream1, stream2):\n",
    "    yield ...\n",
    "\n",
    "stream1 = range(0, 10, 2)\n",
    "stream2 = range(1, 10, 2)\n",
    "\n",
    "for x in merge_sorted_stream(stream1, stream2):\n",
    "    print(x)\n",
    "\n",
    "0 \n",
    "1\n",
    "2\n",
    "3\n",
    "4\n",
    "5\n",
    "6\n",
    "7\n",
    "8\n",
    "9\n",
    "```"
   ]
  },
  {
   "cell_type": "code",
   "execution_count": 25,
   "metadata": {},
   "outputs": [],
   "source": [
    "def merge_sorted_stream(*args):\n",
    "    iters = [iter(arg) for arg in args]\n",
    "    \n",
    "    nums = [None] * len(iters)\n",
    "    #print(nums)\n",
    "    for x, it in enumerate(iters):\n",
    "        try:\n",
    "            nums[x] = next(it)\n",
    "        except StopIteration:\n",
    "            nums[x] = None\n",
    "            \n",
    "    while True:\n",
    "        new_nums = [num for num in nums if num is not None]\n",
    "        #print(new_nums)\n",
    "        if len(new_nums) != 0:\n",
    "            min_num = min(new_nums)\n",
    "            min_index = nums.index(min_num)\n",
    "            try:\n",
    "                yield min_num\n",
    "                nums[min_index] = next(iters[min_index])\n",
    "            except StopIteration:\n",
    "                nums[min_index] = None  \n",
    "        else:\n",
    "            break           "
   ]
  },
  {
   "cell_type": "code",
   "execution_count": 28,
   "metadata": {},
   "outputs": [
    {
     "name": "stdout",
     "output_type": "stream",
     "text": [
      "0\n",
      "1\n",
      "2\n",
      "3\n",
      "4\n",
      "5\n",
      "6\n",
      "7\n",
      "8\n",
      "9\n"
     ]
    }
   ],
   "source": [
    "stream1 = range(0, 10, 2)\n",
    "stream2 = range(1, 10, 2)\n",
    "\n",
    "for x in merge_sorted_stream(stream1, stream2):\n",
    "    print(x)\n"
   ]
  },
  {
   "cell_type": "code",
   "execution_count": 29,
   "metadata": {},
   "outputs": [
    {
     "name": "stdout",
     "output_type": "stream",
     "text": [
      "0\n",
      "1\n",
      "1\n",
      "2\n",
      "3\n",
      "4\n",
      "4\n",
      "5\n",
      "6\n",
      "7\n",
      "7\n",
      "8\n",
      "9\n"
     ]
    }
   ],
   "source": [
    "stream3 = range(1, 10, 3)\n",
    "for x in merge_sorted_stream(stream1, stream2, stream3):\n",
    "    print(x)"
   ]
  },
  {
   "cell_type": "markdown",
   "metadata": {},
   "source": [
    "## Tree traversal\n",
    "\n",
    "Unlike linear data structures (Array, Linked List, Queues, Stacks, etc) which have only one logical way to traverse them, trees can be traversed in different ways. Following are the generally used ways for traversing trees.\n",
    "\n",
    "```\n",
    "      1\n",
    "    /  \\ \n",
    "   2    3\n",
    "  / \\\n",
    " 4   5\n",
    "```\n",
    "\n",
    "Depth First Traversals: \n",
    "  * (a) Inorder (Left, Root, Right) : 4 2 5 1 3\n",
    "  * (b) Preorder (Root, Left, Right) : 1 2 4 5 3\n",
    "  * (c) Postorder (Left, Right, Root) : 4 5 2 3 1\n",
    "\n",
    "Define a Tree class with a method that can walk through the tree in different orders. Hint: use generator will make your life a lot easier.\n",
    "\n",
    "```python\n",
    "class TreeNode:\n",
    "    \n",
    "    ...\n",
    "\n",
    "    def in_order(self):\n",
    "        pass\n",
    "        \n",
    "    def pre_order(self):\n",
    "        pass\n",
    "        \n",
    "    def post_order(self):\n",
    "        pass\n",
    "\n",
    "    \n",
    "root = TreeNode(1)\n",
    "root.left = TreeNode(2)\n",
    "root.right = TreeNode(3)\n",
    "root.left.left = TreeNode(4)\n",
    "root.left.right = TreeNode(5)\n",
    "\n",
    ">>> print(' -> '.join(item for item in root.in_order()))\n",
    "4 -> 2 -> 5 -> 1 -> 3    \n",
    "\n",
    "\n",
    "```\n",
    "   "
   ]
  },
  {
   "cell_type": "code",
   "execution_count": 32,
   "metadata": {},
   "outputs": [],
   "source": [
    "class TreeNode:\n",
    "    \n",
    "    def __init__(self, x):\n",
    "        self.info = str(x)\n",
    "        self.left = None\n",
    "        self.right = None\n",
    "\n",
    "    def in_order(self):\n",
    "        #Left\n",
    "        if self.left != None:\n",
    "            for i in self.left.in_order():\n",
    "                yield i\n",
    "        #Root        \n",
    "        yield self.info\n",
    "        #Right\n",
    "        if self.right != None:\n",
    "            for i in self.right.in_order():\n",
    "                yield i\n",
    "        \n",
    "    def pre_order(self):\n",
    "        #Root        \n",
    "        yield self.info\n",
    "        #Left\n",
    "        if self.left != None:\n",
    "            for i in self.left.pre_order():\n",
    "                yield i\n",
    "        #Right\n",
    "        if self.right != None:\n",
    "            for i in self.right.pre_order():\n",
    "                yield i\n",
    "        \n",
    "    def post_order(self):\n",
    "        #Left\n",
    "        if self.left != None:\n",
    "            for i in self.left.post_order():\n",
    "                yield i\n",
    "        #Right\n",
    "        if self.right != None:\n",
    "            for i in self.right.post_order():\n",
    "                yield i\n",
    "        #Root        \n",
    "        yield self.info"
   ]
  },
  {
   "cell_type": "code",
   "execution_count": 34,
   "metadata": {},
   "outputs": [
    {
     "name": "stdout",
     "output_type": "stream",
     "text": [
      "in order\n",
      "4 -> 2 -> 5 -> 1 -> 3\n",
      "pre order\n",
      "1 -> 2 -> 4 -> 5 -> 3\n",
      "post order\n",
      "4 -> 5 -> 2 -> 3 -> 1\n"
     ]
    }
   ],
   "source": [
    "root = TreeNode(1)\n",
    "root.left = TreeNode(2)\n",
    "root.right = TreeNode(3)\n",
    "root.left.left = TreeNode(4)\n",
    "root.left.right = TreeNode(5)\n",
    "\n",
    "print('in order')\n",
    "print(' -> '.join(item for item in root.in_order()))\n",
    "\n",
    "print('pre order')\n",
    "print(' -> '.join(item for item in root.pre_order()))\n",
    "\n",
    "print('post order')\n",
    "print(' -> '.join(item for item in root.post_order()))"
   ]
  },
  {
   "cell_type": "markdown",
   "metadata": {},
   "source": [
    "## Implement a timer\n",
    "Implement a timer that can print the execution time of your code. Try to implement it both as a decorator and as a context manager to compare the implementations. Can you implement it using one single class? \n",
    "\n",
    "Example:\n",
    "```python\n",
    "import time\n",
    "\n",
    "\n",
    "with timer() as timer:\n",
    "    time.sleep(3)\n",
    "\n",
    "# Total execution time: 3.000123 seconds (a made up number)\n",
    "\n",
    "\n",
    "@timer\n",
    "def sleep(secs):\n",
    "    time.sleep(secs)\n",
    "    \n",
    "sleep(3)\n",
    "# Total execution time: 3.000123 seconds (a made up number)\n",
    "```\n",
    "\n",
    "Below is the code snippet to measure the time:\n",
    "```python    \n",
    "import time\n",
    "start_time = time.time()\n",
    "main()\n",
    "print(f\"--- {time.time() - start_time} seconds ---\"\n",
    "```"
   ]
  },
  {
   "cell_type": "code",
   "execution_count": 80,
   "metadata": {},
   "outputs": [],
   "source": [
    "import time\n",
    "import functools\n",
    "\n",
    "class timer:\n",
    "    \n",
    "    def __init__(self):\n",
    "        self.start_time = time.time()\n",
    "        \n",
    "    def __enter__(self):\n",
    "        self.start_time = time.time()\n",
    "        return self\n",
    "    \n",
    "    def __call__(self, func):\n",
    "        @functools.wraps(func)\n",
    "        def inner(*args):\n",
    "            self.start_time = time.time()\n",
    "            res = func(*args)\n",
    "            print(f\"Total execution time: {time.time() - self.start_time} seconds\")\n",
    "            return res\n",
    "    \n",
    "        return inner\n",
    "    \n",
    "    def __exit__(self, *exc):\n",
    "        print(f\"Total execution time: {time.time() - self.start_time} seconds\")\n",
    "        return True"
   ]
  },
  {
   "cell_type": "code",
   "execution_count": 81,
   "metadata": {},
   "outputs": [
    {
     "name": "stdout",
     "output_type": "stream",
     "text": [
      "Total execution time: 3.0043070316314697 seconds\n"
     ]
    }
   ],
   "source": [
    "#as a context manager\n",
    "with timer() as timer:\n",
    "    time.sleep(3)"
   ]
  },
  {
   "cell_type": "code",
   "execution_count": 82,
   "metadata": {},
   "outputs": [
    {
     "name": "stdout",
     "output_type": "stream",
     "text": [
      "Total execution time: 3.005256175994873 seconds\n"
     ]
    }
   ],
   "source": [
    "#as a decorator\n",
    "@timer\n",
    "\n",
    "def sleep(secs):\n",
    "    time.sleep(secs)\n",
    "\n",
    "sleep(3)"
   ]
  },
  {
   "cell_type": "code",
   "execution_count": null,
   "metadata": {},
   "outputs": [],
   "source": []
  }
 ],
 "metadata": {
  "kernelspec": {
   "display_name": "Python 3",
   "language": "python",
   "name": "python3"
  },
  "language_info": {
   "codemirror_mode": {
    "name": "ipython",
    "version": 3
   },
   "file_extension": ".py",
   "mimetype": "text/x-python",
   "name": "python",
   "nbconvert_exporter": "python",
   "pygments_lexer": "ipython3",
   "version": "3.8.3"
  },
  "toc": {
   "base_numbering": 1,
   "nav_menu": {},
   "number_sections": true,
   "sideBar": true,
   "skip_h1_title": false,
   "title_cell": "Table of Contents",
   "title_sidebar": "Contents",
   "toc_cell": false,
   "toc_position": {},
   "toc_section_display": true,
   "toc_window_display": false
  },
  "varInspector": {
   "cols": {
    "lenName": 16,
    "lenType": 16,
    "lenVar": 40
   },
   "kernels_config": {
    "python": {
     "delete_cmd_postfix": "",
     "delete_cmd_prefix": "del ",
     "library": "var_list.py",
     "varRefreshCmd": "print(var_dic_list())"
    },
    "r": {
     "delete_cmd_postfix": ") ",
     "delete_cmd_prefix": "rm(",
     "library": "var_list.r",
     "varRefreshCmd": "cat(var_dic_list()) "
    }
   },
   "types_to_exclude": [
    "module",
    "function",
    "builtin_function_or_method",
    "instance",
    "_Feature"
   ],
   "window_display": false
  }
 },
 "nbformat": 4,
 "nbformat_minor": 4
}
