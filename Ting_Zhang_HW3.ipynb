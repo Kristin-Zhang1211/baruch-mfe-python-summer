{
 "cells": [
  {
   "cell_type": "markdown",
   "metadata": {},
   "source": [
    "# Ting_Zhang_HW3"
   ]
  },
  {
   "cell_type": "markdown",
   "metadata": {},
   "source": [
    "1. Read the code below and rewrite it using only numpy functions (without for loop, if-else statements). Benchmark your implementation. How much is it faster than the naive python implementation? (hint: use np.isin)"
   ]
  },
  {
   "cell_type": "code",
   "execution_count": 1,
   "metadata": {},
   "outputs": [],
   "source": [
    "def func1(names, db):\n",
    "    idx = []\n",
    "    for i in names:\n",
    "        if i in db:\n",
    "            idx.append(db.index(i))\n",
    "    return idx"
   ]
  },
  {
   "cell_type": "code",
   "execution_count": 2,
   "metadata": {},
   "outputs": [],
   "source": [
    "#solution\n",
    "import numpy as np\n",
    "\n",
    "def func2(names, db):\n",
    "    return np.isin(names, db)"
   ]
  },
  {
   "cell_type": "code",
   "execution_count": 3,
   "metadata": {},
   "outputs": [
    {
     "name": "stdout",
     "output_type": "stream",
     "text": [
      "1.25 µs ± 14.1 ns per loop (mean ± std. dev. of 7 runs, 1000000 loops each)\n",
      "27.5 µs ± 1.05 µs per loop (mean ± std. dev. of 7 runs, 10000 loops each)\n"
     ]
    }
   ],
   "source": [
    "mynames = [\"hi\", \"hello\", \"ting\", \"zhang\", \"a\", \"sa\", \"SD\", \"ds\"]\n",
    "mydbs = [\"abc\", \"def\", \"cfg\", \"hi\", \"fgs\", \"dsx\", \"efer\", \"sdad\", \"sda\", \"xsa\",\"hello\"]\n",
    "\n",
    "mynames2 = np.array(mynames)\n",
    "mydbs2 = np.array(mydbs)\n",
    "\n",
    "%timeit func1(mynames, mydbs)\n",
    "%timeit func2(mynames2, mydbs)"
   ]
  },
  {
   "cell_type": "markdown",
   "metadata": {},
   "source": [
    "2. Use only numpy functions (without for loop, if-else statements) to find the largest 3 distances between points if either points is inside the circle of raidus r0. Then return these points. E.g."
   ]
  },
  {
   "cell_type": "code",
   "execution_count": 82,
   "metadata": {},
   "outputs": [],
   "source": [
    "def search_pairs(coordinates, cirle_r0):\n",
    "    #get the points in the circle\n",
    "    points_in_circle = np.linalg.norm(coordinates, axis=1) < cirle_r0\n",
    "    #get the distances between points\n",
    "    dists_of_points = np.linalg.norm(coordinates[ :, np.newaxis, :] - coordinates, axis=2)\n",
    "    dists_of_points = np.tril(dists_of_points, k = -1)\n",
    "    \n",
    "    #get the distances of valid points\n",
    "    mask = np.tril(points_in_circle[: , np.newaxis] ^ points_in_circle, k = -1)\n",
    "    valid_point_dists = dists_of_points[mask]\n",
    "    \n",
    "    #get max distances\n",
    "    max_dists = np.sort(valid_point_dists)[-3:]\n",
    "    print(max_dists)\n",
    "    index = np.where(np.isin(dists_of_points, max_dists))\n",
    "    return np.transpose(index)"
   ]
  },
  {
   "cell_type": "code",
   "execution_count": 83,
   "metadata": {},
   "outputs": [
    {
     "name": "stdout",
     "output_type": "stream",
     "text": [
      "[0.81663333 0.93994149 0.96168862]\n"
     ]
    },
    {
     "data": {
      "text/plain": [
       "array([[2, 1],\n",
       "       [3, 0],\n",
       "       [3, 1]])"
      ]
     },
     "execution_count": 83,
     "metadata": {},
     "output_type": "execute_result"
    }
   ],
   "source": [
    "coordinates = np.array([[0.968, 0.313],\n",
    "                        [0.692, 0.876],\n",
    "                        [0.895, 0.085],\n",
    "                        [0.039, 0.17 ],\n",
    "                        [0.878, 0.098]])\n",
    "cirle_r0 = 0.9\n",
    "search_pairs(coordinates, cirle_r0)"
   ]
  },
  {
   "cell_type": "code",
   "execution_count": null,
   "metadata": {},
   "outputs": [],
   "source": []
  }
 ],
 "metadata": {
  "kernelspec": {
   "display_name": "Python 3",
   "language": "python",
   "name": "python3"
  },
  "language_info": {
   "codemirror_mode": {
    "name": "ipython",
    "version": 3
   },
   "file_extension": ".py",
   "mimetype": "text/x-python",
   "name": "python",
   "nbconvert_exporter": "python",
   "pygments_lexer": "ipython3",
   "version": "3.8.3"
  }
 },
 "nbformat": 4,
 "nbformat_minor": 4
}
